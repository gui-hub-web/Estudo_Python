{
 "cells": [
  {
   "cell_type": "markdown",
   "id": "b833b6d0",
   "metadata": {},
   "source": [
    "<h1><span style=\"color:Green\">OPERADORES EM PYTHON</span></h1>\n"
   ]
  },
  {
   "cell_type": "markdown",
   "id": "75414711",
   "metadata": {},
   "source": [
    "<h2>Soma</h2>"
   ]
  },
  {
   "cell_type": "code",
   "execution_count": 37,
   "id": "97868fe9",
   "metadata": {},
   "outputs": [
    {
     "data": {
      "text/plain": [
       "4"
      ]
     },
     "execution_count": 37,
     "metadata": {},
     "output_type": "execute_result"
    }
   ],
   "source": [
    "2+2 # +"
   ]
  },
  {
   "cell_type": "markdown",
   "id": "a0e06f1d",
   "metadata": {},
   "source": [
    "<h2>Subtração</h2>"
   ]
  },
  {
   "cell_type": "code",
   "execution_count": 38,
   "id": "f950715f",
   "metadata": {},
   "outputs": [
    {
     "data": {
      "text/plain": [
       "0"
      ]
     },
     "execution_count": 38,
     "metadata": {},
     "output_type": "execute_result"
    }
   ],
   "source": [
    "2-2 # -"
   ]
  },
  {
   "cell_type": "markdown",
   "id": "1ea25d90",
   "metadata": {},
   "source": [
    "<h2>Multiplicação</h2>"
   ]
  },
  {
   "cell_type": "code",
   "execution_count": 40,
   "id": "13fba23d",
   "metadata": {},
   "outputs": [
    {
     "data": {
      "text/plain": [
       "4"
      ]
     },
     "execution_count": 40,
     "metadata": {},
     "output_type": "execute_result"
    }
   ],
   "source": [
    "2*2 #*"
   ]
  },
  {
   "cell_type": "markdown",
   "id": "227b48f8",
   "metadata": {},
   "source": [
    "<h2>Divisão</h2>"
   ]
  },
  {
   "cell_type": "code",
   "execution_count": 42,
   "id": "4ec27e45",
   "metadata": {},
   "outputs": [
    {
     "data": {
      "text/plain": [
       "1.0"
      ]
     },
     "execution_count": 42,
     "metadata": {},
     "output_type": "execute_result"
    }
   ],
   "source": [
    "2/2 # /"
   ]
  },
  {
   "cell_type": "markdown",
   "id": "cfa90577",
   "metadata": {},
   "source": [
    "<h2>Exponenciação</h2>"
   ]
  },
  {
   "cell_type": "code",
   "execution_count": 43,
   "id": "19a7f09b",
   "metadata": {},
   "outputs": [
    {
     "data": {
      "text/plain": [
       "4"
      ]
     },
     "execution_count": 43,
     "metadata": {},
     "output_type": "execute_result"
    }
   ],
   "source": [
    "2**2 #**"
   ]
  },
  {
   "cell_type": "markdown",
   "id": "1106e99d",
   "metadata": {},
   "source": [
    "<h2>Modulo</h2>"
   ]
  },
  {
   "cell_type": "code",
   "execution_count": 44,
   "id": "da284afb",
   "metadata": {},
   "outputs": [
    {
     "data": {
      "text/plain": [
       "1"
      ]
     },
     "execution_count": 44,
     "metadata": {},
     "output_type": "execute_result"
    }
   ],
   "source": [
    "5%2 # %"
   ]
  },
  {
   "cell_type": "markdown",
   "id": "5ed331fb",
   "metadata": {},
   "source": [
    "<h1><span style=\"color:Red\">LISTAS, TUPLAS E DICIONARIOS</span></h1>"
   ]
  },
  {
   "cell_type": "markdown",
   "id": "5f9450e4",
   "metadata": {},
   "source": [
    "<h2>Lista</h2>"
   ]
  },
  {
   "cell_type": "markdown",
   "id": "8f401528",
   "metadata": {},
   "source": [
    "Listas são usadas para guardar dados de mesmo tipo e significado, de modo que a ordem pode fazer diferença."
   ]
  },
  {
   "cell_type": "code",
   "execution_count": 63,
   "id": "c470fab3",
   "metadata": {},
   "outputs": [
    {
     "name": "stdout",
     "output_type": "stream",
     "text": [
      "Soma utilizado For: 98.0\n",
      "Soma utilizado SUM: 98.0\n",
      "Tamnho da lista de notas: 15\n",
      "[9.0, 8.0, 5.0, 10.0, 7.0, 7.5, 4.0, 10.0, 7.0, 7.0, 8.0, 8.0, 7.5]\n",
      "3\n",
      "8\n",
      "8\n",
      "A média das notas é: 7.538461538461538\n"
     ]
    }
   ],
   "source": [
    "#EXEMPLO NOTAS  - https://www.alura.com.br/artigos/listas-no-python\n",
    "notas = [0, 0, 9.0, 8.0, 5.0, 10.0, 7.0, 7.5, 4.0, 10.0, 7.0, 7.0, 8.0, 8.0, 7.5]\n",
    "#-----------------------------SOMA------------------------------------\n",
    "#Soma das notas - for\n",
    "soma_das_notas_for = 0\n",
    "for nota in notas:\n",
    "    soma_das_notas_for += nota\n",
    "print('Soma utilizado For: {soma}'.format(soma = soma_das_notas_for))\n",
    "\n",
    "#Soma das notas - sum\n",
    "soma_das_notas = sum(notas)\n",
    "print('Soma utilizado SUM: {soma}'.format(soma = soma_das_notas))\n",
    "\n",
    "#----------------------------TAMANHO------------------------------------\n",
    "\n",
    "#Tamanho das notas - len\n",
    "qtd_de_notas = len(notas)\n",
    "print('Tamnho da lista de notas: {len}'.format(len = qtd_de_notas))\n",
    "\n",
    "#--------------------------REMOVER ELEMENTOS------------------------------------\n",
    "\n",
    "#\"notas.remove(0)\" #Esse metodo remove apenas o 1° elemento que ele ver com esse determindo valor.\n",
    "                #Além disto, ele não funciona muito bem com for para uma operação de remoção de varios elementos\n",
    "\n",
    "#--------------------------FILTRAR ELEMENTOS------------------------------------\n",
    "notas_validas = [nota for nota in notas if nota > 0]\n",
    "print(notas_validas)\n",
    "\n",
    "#--------------------------CONTAR NOTAS------------------------------------\n",
    "\n",
    "#Apenas uma Nota\n",
    "qtd_de_setes = notas.count(7.0)\n",
    "print(qtd_de_setes)\n",
    "\n",
    "#Intervalo de notas - For 1\n",
    "qtd_alunos_na_media = 0\n",
    "for nota in notas:\n",
    "    if 7.0 <= nota <= 8.0:\n",
    "        qtd_alunos_na_media += 1\n",
    "\n",
    "print(qtd_alunos_na_media)\n",
    "\n",
    "#Intervalo de notas - metodo bool - Mais simples\n",
    "\n",
    "qtd_alunos_na_media = sum([7.0 <= nota <= 8.0 for nota in notas])\n",
    "print(qtd_alunos_na_media)\n",
    "\n",
    "#--------------------------MEDIA DAS NOTAS - SEM AS NOTAS 0-----------------------------------\n",
    "media = sum(notas_validas) / len(notas_validas) \n",
    "print(\"A média das notas é: {media}\".format(media = media))\n",
    "\n"
   ]
  },
  {
   "cell_type": "code",
   "execution_count": 73,
   "id": "db2da545",
   "metadata": {},
   "outputs": [
    {
     "name": "stdout",
     "output_type": "stream",
     "text": [
      "[1, 2, 3]\n",
      "2\n"
     ]
    },
    {
     "data": {
      "text/plain": [
       "['Hello', [1, 2, 3]]"
      ]
     },
     "execution_count": 73,
     "metadata": {},
     "output_type": "execute_result"
    }
   ],
   "source": [
    "#ACESSAR ELEMENTOS DA LISTA - Python para Data Science e Machine learning (Udemy)\n",
    "\n",
    "lista = [1.5, \"Hello\", [1,2,3]]\n",
    "lista\n",
    "\n",
    "#1 ELEMENTO\n",
    "\n",
    "print(lista[2])\n",
    "\n",
    "#1 ELEMENTO DE UM ELEMENTO\n",
    "print(lista[2][1])\n",
    "\n",
    "#Intervalo de valor [1:2] o 1 é incluido e o 2 é excluido\n",
    "lista[1:2]\n",
    "\n",
    "#Neste caso ele pega da 1° posição até a ultima (deste modo ele inclui o 2)\n",
    "lista[1:]"
   ]
  },
  {
   "cell_type": "markdown",
   "id": "ba9ba0be",
   "metadata": {},
   "source": [
    "<h2>Tuplas</h2>"
   ]
  },
  {
   "cell_type": "markdown",
   "id": "df73c388",
   "metadata": {},
   "source": [
    "Tuplas, além de serem imutáveis, têm uma semântica muito mais estrutural, armazenando dados heterogêneos. Isto é, a posição do dado pode alterar o seu significado."
   ]
  },
  {
   "cell_type": "code",
   "execution_count": 76,
   "id": "85b82319",
   "metadata": {},
   "outputs": [
    {
     "name": "stdout",
     "output_type": "stream",
     "text": [
      "<class 'tuple'>\n",
      "-23.588254\n",
      "-23.588254\n",
      "-46.632477\n",
      "-46.632477\n"
     ]
    }
   ],
   "source": [
    "#Exemplo Coordenadas - https://www.alura.com.br/artigos/conhecendo-as-tuplas-no-python?gclid=CjwKCAjw9uKIBhA8EiwAYPUS3OYyU45ap62mIoTkqlx-CQmL01o8S0qgOcP0Mtlia84xPRSo_-c_yhoC6xkQAvD_BwE\n",
    "\n",
    "#Definindo Tupla para Coordenadas\n",
    "caelum_coordenadas = (-23.588254, -46.632477)\n",
    "print(type(caelum_coordenadas))\n",
    "\n",
    "#Definindo Nomes para as Coordenadas -  namedtuple()\n",
    "\n",
    "from collections import namedtuple\n",
    "\n",
    "Coordenadas = namedtuple('Coordenadas', ['latitude', 'longitude'])\n",
    "caelum_coordenadas = Coordenadas(latitude=-23.588254, longitude=-46.632477)\n",
    "\n",
    "print(caelum_coordenadas[0])\n",
    "print(caelum_coordenadas.latitude)\n",
    "\n",
    "print(caelum_coordenadas[1])\n",
    "print(caelum_coordenadas.longitude)\n",
    "\n"
   ]
  },
  {
   "cell_type": "markdown",
   "id": "bdcd0918",
   "metadata": {},
   "source": [
    "<h2>Dicionarios</h2>"
   ]
  },
  {
   "cell_type": "markdown",
   "id": "1fcc0ec5",
   "metadata": {},
   "source": [
    "Tuplas e listas podem nos ajudar bastante a organizar nossos dados nos programas, mas, às vezes, precisamos de um tipo mais direto e específico para mapeamento com base em chave e valor.\n",
    "\n",
    "Para essa necessidade, no Python temos o tipo dicionário, que é mutável e nos provê diversos métodos para facilitar o manipulamento dos dados nessa estrutura."
   ]
  },
  {
   "cell_type": "code",
   "execution_count": 82,
   "id": "11eac8d2",
   "metadata": {},
   "outputs": [
    {
     "name": "stdout",
     "output_type": "stream",
     "text": [
      "<class 'dict'>\n",
      "1234-5678\n",
      "Contato não encontrado\n",
      "True\n",
      "True\n",
      "{'Yan': '1234-5678', 'Pedro': '9999-9999', 'Ana': '8765-4321', 'Marina': '8877-7788', 'João': '8887-7778'}\n",
      "{'Yan': '1234-5678', 'Pedro': '9999-9999', 'Ana': '8765-4321', 'João': '8887-7778'}\n",
      "8877-7788\n",
      "Contato não encontrado\n",
      "\n",
      "{'Yan': '1234-5678', 'Pedro': '9999-9999', 'Ana': '8765-4321', 'João': '8887-7778'}\n",
      "{'Yan': '1234-5678', 'Pedro': '9999-9999', 'Ana': '8765-4321', 'João': '8887-7778', 'Fernando': '4345-5434', 'Luiza': '4567-7654'}\n",
      "{'Yan': '91234-5678', 'Pedro': '99999-9999', 'Ana': '98765-4321', 'João': '98887-7778', 'Fernando': '94345-5434', 'Luiza': '94567-7654'}\n"
     ]
    },
    {
     "data": {
      "text/plain": [
       "'91234-5678'"
      ]
     },
     "execution_count": 82,
     "metadata": {},
     "output_type": "execute_result"
    }
   ],
   "source": [
    "#Exemplo Numero de Telefone - https://www.alura.com.br/artigos/trabalhando-com-o-dicionario-no-python?gclid=CjwKCAjw9uKIBhA8EiwAYPUS3NVk4R0j3Nojhy6HAP1qyKtQM_Ftel-pV56lIAbPeE4YEoB4mk5nHxoCEAsQAvD_BwE\n",
    "\n",
    "#Definindo um dicionario\n",
    "contatos = {'Yan': '1234-5678', 'Pedro': '9999-9999', 'Ana': '8765-4321',\n",
    "'Marina': '8877-7788'}\n",
    "print(type(contatos))\n",
    "\n",
    "#Acessar valores do dicionario - get\n",
    "print(contatos.get('Yan', 'Contato não encontrado'))\n",
    "print(contatos.get('João', 'Contato não encontrado'))\n",
    "\n",
    "#Acessar valores do dicionario - in\n",
    "print('Yan' in contatos)\n",
    "\n",
    "#Achar pelos valores \n",
    "print('9999-9999' in contatos.values())\n",
    "\n",
    "#Adicionar valores ao dicionario\n",
    "contatos['João'] = '8887-7778'\n",
    "print(contatos)\n",
    "\n",
    "#Remover Valores - del\n",
    "\n",
    "#O del ele remove apenas se a chave estiver no Dic.Porem ele pode pode retornar o erro \"KeyError\" caso não exista\n",
    "del contatos['Marina']\n",
    "print(contatos)\n",
    "\n",
    "#Remover Valores - Pop\n",
    "\n",
    "#Além de remover o elemento com a chave especificada do dicionário, nos retorna o valor desse elemento.\n",
    "contatos = {'Yan': '1234-5678', 'Pedro': '9999-9999', 'Ana': '8765-4321',\n",
    "            'Marina': '8877-7788', 'João': '8887-7778'}\n",
    "print(contatos.pop('Marina', 'Contato não encontrado'))\n",
    "print(contatos.pop('Catarina', 'Contato não encontrado'))\n",
    "print()\n",
    "print(contatos)\n",
    "\n",
    "#Adicionar um dicionario em outro\n",
    "\n",
    "#Utilizando For\n",
    "\n",
    "meus_contatos = {'Yan': '1234-5678', 'Pedro': '9999-9999',\n",
    "                    'Ana': '8765-4321', 'João': '8887-7778'}\n",
    "\n",
    "contatos_do_pedro = {'Yan': '1234-5678', 'Fernando': '4345-5434',\n",
    "                        'Luiza': '4567-7654'}\n",
    "\n",
    "for nome in contatos_do_pedro:\n",
    "    meus_contatos[nome] = contatos_do_pedro[nome]\n",
    "\n",
    "print(meus_contatos)\n",
    "\n",
    "#Utilizando updat()\n",
    "#meus_contatos.update(contatos_pedro)\n",
    "#print(meus_contatos)\n",
    "\n",
    "#Adicionando o Digito Nome\n",
    "\n",
    "meus_contatos_novo = {nome: '9' + meus_contatos[nome] for nome in meus_contatos}\n",
    "print(meus_contatos_novo)\n",
    "\n",
    "#Acessar Valores\n",
    "\n",
    "meus_contatos_novo['Yan']\n"
   ]
  },
  {
   "cell_type": "markdown",
   "id": "b3f1ee88",
   "metadata": {},
   "source": [
    "<h1><span style=\"color:Blue\">OPERADORES LOGICOS</span></h1>"
   ]
  },
  {
   "cell_type": "code",
   "execution_count": 88,
   "id": "866fb16e",
   "metadata": {},
   "outputs": [
    {
     "name": "stdout",
     "output_type": "stream",
     "text": [
      "False\n",
      "True\n",
      "True\n",
      "False\n",
      "True\n",
      "False\n",
      "True\n",
      "False\n"
     ]
    }
   ],
   "source": [
    "x = 1 #Definindo Variavel\n",
    "\n",
    "print(x == 2) # Igual\n",
    "print(x > 0) #Maior\n",
    "print(x >= 0) #Maior ou Igual\n",
    "\n",
    "print(x < 0) #Menor\n",
    "print(x <= 2) #Menor ou igual \n",
    "\n",
    "print(x != 1) #Diferente\n",
    "\n",
    "print((x == 1) and (x >= 0)) #Logica E\n",
    "print((x < 1) or (x > 1)) #logica Ou\n",
    "\n",
    "\n"
   ]
  },
  {
   "cell_type": "markdown",
   "id": "a5197da4",
   "metadata": {},
   "source": [
    "<h1><span style=\"color:#3D087B\">IF AND ELSE</span></h1>"
   ]
  },
  {
   "cell_type": "code",
   "execution_count": 100,
   "id": "de6ddf71",
   "metadata": {},
   "outputs": [
    {
     "name": "stdout",
     "output_type": "stream",
     "text": [
      "Recuperação\n"
     ]
    }
   ],
   "source": [
    "x = 5\n",
    "\n",
    "if x > 7:\n",
    "    y = \"Aprovado\" #1° Condição \n",
    "elif x > 4:\n",
    "    y = \"Recuperação\"#2° Condição caso a primeira não seja atendida \n",
    "else: \n",
    "    y = \"Reprovado\"#Condição na qual nenhuma das acimas foi atendida\n",
    "    \n",
    "print(y)"
   ]
  },
  {
   "cell_type": "markdown",
   "id": "5db02064",
   "metadata": {},
   "source": []
  }
 ],
 "metadata": {
  "kernelspec": {
   "display_name": "Python 3",
   "language": "python",
   "name": "python3"
  },
  "language_info": {
   "codemirror_mode": {
    "name": "ipython",
    "version": 3
   },
   "file_extension": ".py",
   "mimetype": "text/x-python",
   "name": "python",
   "nbconvert_exporter": "python",
   "pygments_lexer": "ipython3",
   "version": "3.8.8"
  }
 },
 "nbformat": 4,
 "nbformat_minor": 5
}
